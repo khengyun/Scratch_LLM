{
 "cells": [
  {
   "cell_type": "markdown",
   "metadata": {},
   "source": [
    "# Define VectorStore"
   ]
  },
  {
   "cell_type": "code",
   "execution_count": 3,
   "metadata": {},
   "outputs": [],
   "source": [
    "import numpy as np  # Importing numpy for numerical operations\n",
    "\n",
    "\n",
    "class VectorStore:\n",
    "    def __init__(self):\n",
    "        self.vector_data = {}  # A dictionary to store vectors\n",
    "        self.vector_index = {}  # An indexing structure for retrieval\n",
    "\n",
    "    def add_vector(self, vector_id, vector):\n",
    "        \"\"\"\n",
    "        Add a vector to the store.\n",
    "\n",
    "        Args:\n",
    "            vector_id (str or int): A unique identifier for the vector.\n",
    "            vector (numpy.ndarray): The vector data to be stored.\n",
    "        \"\"\"\n",
    "        self.vector_data[vector_id] = vector\n",
    "        self._update_index(vector_id, vector)\n",
    "\n",
    "    def get_vector(self, vector_id):\n",
    "        \"\"\"\n",
    "        Retrieve a vector from the store.\n",
    "\n",
    "        Args:\n",
    "            vector_id (str or int): The identifier of the vector to retrieve.\n",
    "\n",
    "        Returns:\n",
    "            numpy.ndarray: The vector data if found, or None if not found.\n",
    "        \"\"\"\n",
    "        return self.vector_data.get(vector_id)\n",
    "\n",
    "    def _update_index(self, vector_id, vector):\n",
    "        \"\"\"\n",
    "        Update the index with the new vector.\n",
    "\n",
    "        Args:\n",
    "            vector_id (str or int): The identifier of the vector.\n",
    "            vector (numpy.ndarray): The vector data.\n",
    "        \"\"\"\n",
    "        # In this simple example, we use brute-force cosine similarity for indexing\n",
    "        for existing_id, existing_vector in self.vector_data.items():\n",
    "            similarity = np.dot(vector, existing_vector) / (np.linalg.norm(vector) * np.linalg.norm(existing_vector))\n",
    "            if existing_id not in self.vector_index:\n",
    "                self.vector_index[existing_id] = {}\n",
    "            self.vector_index[existing_id][vector_id] = similarity\n",
    "\n",
    "    def find_similar_vectors(self, query_vector, num_results=5):\n",
    "        \"\"\"\n",
    "        Find similar vectors to the query vector using brute-force search.\n",
    "\n",
    "        Args:\n",
    "            query_vector (numpy.ndarray): The query vector for similarity search.\n",
    "            num_results (int): The number of similar vectors to return.\n",
    "\n",
    "        Returns:\n",
    "            list: A list of (vector_id, similarity_score) tuples for the most similar vectors.\n",
    "        \"\"\"\n",
    "        results = []\n",
    "        for vector_id, vector in self.vector_data.items():\n",
    "            similarity = np.dot(query_vector, vector) / (np.linalg.norm(query_vector) * np.linalg.norm(vector))\n",
    "            results.append((vector_id, similarity))\n",
    "\n",
    "        # Sort by similarity in descending order\n",
    "        results.sort(key=lambda x: x[1], reverse=True)\n",
    "\n",
    "        # Return the top N results\n",
    "        return results[:num_results]"
   ]
  },
  {
   "cell_type": "markdown",
   "metadata": {},
   "source": [
    "# Requisite imports"
   ]
  },
  {
   "cell_type": "code",
   "execution_count": 4,
   "metadata": {},
   "outputs": [],
   "source": [
    "\n",
    "# from vector_store import VectorStore  # Importing the VectorStore class from vector_store module\n",
    "import numpy as np  # Importing numpy for numerical operations\n",
    "\n",
    "# Establish a VectorStore instance\n",
    "vector_store = VectorStore()  # Creating an instance of the VectorStore class\n",
    "\n"
   ]
  },
  {
   "cell_type": "markdown",
   "metadata": {},
   "source": [
    "# Define sentences"
   ]
  },
  {
   "cell_type": "code",
   "execution_count": null,
   "metadata": {},
   "outputs": [],
   "source": [
    "sentences = [  # Defining a list of example sentences\n",
    "    \"I eat mango\",\n",
    "    \"mango is my favorite fruit\",\n",
    "    \"mango, apple, oranges are fruits\",\n",
    "    \"fruits are good for health\",\n",
    "]"
   ]
  },
  {
   "cell_type": "code",
   "execution_count": 5,
   "metadata": {},
   "outputs": [
    {
     "name": "stdout",
     "output_type": "stream",
     "text": [
      "Query Sentence: Mango is the best fruit\n",
      "Similar Sentences:\n",
      "mango is my favorite fruit: Similarity = 0.7746\n",
      "I eat mango: Similarity = 0.3333\n"
     ]
    }
   ],
   "source": [
    "\n",
    "# Tokenization and Vocabulary Creation\n",
    "vocabulary = set()  # Initializing an empty set to store unique words\n",
    "for sentence in sentences:  # Iterating over each sentence in the list\n",
    "    tokens = sentence.lower().split()  # Tokenizing the sentence by splitting on whitespace and converting to lowercase\n",
    "    vocabulary.update(tokens)  # Updating the set of vocabulary with unique tokens\n",
    "\n",
    "# Assign unique indices to vocabulary words\n",
    "word_to_index = {word: i for i, word in enumerate(vocabulary)}  # Creating a dictionary mapping words to unique indices\n",
    "\n",
    "# Vectorization\n",
    "sentence_vectors = {}  # Initializing an empty dictionary to store sentence vectors\n",
    "for sentence in sentences:  # Iterating over each sentence in the list\n",
    "    tokens = sentence.lower().split()  # Tokenizing the sentence by splitting on whitespace and converting to lowercase\n",
    "    vector = np.zeros(len(vocabulary))  # Initializing a numpy array of zeros for the sentence vector\n",
    "    for token in tokens:  # Iterating over each token in the sentence\n",
    "        vector[word_to_index[token]] += 1  # Incrementing the count of the token in the vector\n",
    "    sentence_vectors[sentence] = vector  # Storing the vector for the sentence in the dictionary\n",
    "\n",
    "# Store in VectorStore\n",
    "for sentence, vector in sentence_vectors.items():  # Iterating over each sentence vector\n",
    "    vector_store.add_vector(sentence, vector)  # Adding the sentence vector to the VectorStore\n",
    "\n",
    "# Similarity Search\n",
    "query_sentence = \"Mango is the best fruit\"  # Defining a query sentence\n",
    "query_vector = np.zeros(len(vocabulary))  # Initializing a numpy array of zeros for the query vector\n",
    "query_tokens = query_sentence.lower().split()  # Tokenizing the query sentence and converting to lowercase\n",
    "for token in query_tokens:  # Iterating over each token in the query sentence\n",
    "    if token in word_to_index:  # Checking if the token is present in the vocabulary\n",
    "        query_vector[word_to_index[token]] += 1  # Incrementing the count of the token in the query vector\n",
    "\n",
    "similar_sentences = vector_store.find_similar_vectors(query_vector, num_results=2)  # Finding similar sentences\n",
    "\n",
    "# Display similar sentences\n",
    "print(\"Query Sentence:\", query_sentence)  # Printing the query sentence\n",
    "print(\"Similar Sentences:\")  # Printing the header for similar sentences\n",
    "for sentence, similarity in similar_sentences:  # Iterating over each similar sentence and its similarity score\n",
    "    print(f\"{sentence}: Similarity = {similarity:.4f}\")  # Printing the similar sentence and its similarity score"
   ]
  }
 ],
 "metadata": {
  "kernelspec": {
   "display_name": "chatbot",
   "language": "python",
   "name": "python3"
  },
  "language_info": {
   "codemirror_mode": {
    "name": "ipython",
    "version": 3
   },
   "file_extension": ".py",
   "mimetype": "text/x-python",
   "name": "python",
   "nbconvert_exporter": "python",
   "pygments_lexer": "ipython3",
   "version": "3.10.0"
  }
 },
 "nbformat": 4,
 "nbformat_minor": 2
}
